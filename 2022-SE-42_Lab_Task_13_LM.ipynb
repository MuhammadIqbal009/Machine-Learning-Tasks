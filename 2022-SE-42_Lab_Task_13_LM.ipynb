{
 "cells": [
  {
   "cell_type": "code",
   "execution_count": 18,
   "id": "ffee5ce4-c365-4c34-9bfd-d5a0870fef5d",
   "metadata": {},
   "outputs": [],
   "source": [
    "import numpy as np\n"
   ]
  },
  {
   "cell_type": "code",
   "execution_count": 20,
   "id": "9568ff5a-13bc-419d-8984-bfdc8b0a93c8",
   "metadata": {},
   "outputs": [],
   "source": [
    "# Define the OR Gate inputs and outputs\n",
    "X = np.array([[0, 0], [0, 1], [1, 0], [1, 1]])  # Input dataset\n",
    "Y = np.array([0, 1, 1, 1])  # Expected output"
   ]
  },
  {
   "cell_type": "code",
   "execution_count": 22,
   "id": "ad80041e-b2e9-4ebd-bcc4-5ff6506158fd",
   "metadata": {},
   "outputs": [],
   "source": [
    "# Initialize weights and bias randomly\n",
    "weights = np.random.rand(2)  # Two weights (one for each input)\n",
    "bias = np.random.rand(1)[0]  # Single bias term"
   ]
  },
  {
   "cell_type": "code",
   "execution_count": 24,
   "id": "22161f11-da49-4ffe-b428-2e6adc15539f",
   "metadata": {},
   "outputs": [],
   "source": [
    "# Hyperparameters\n",
    "learning_rate = 0.1\n",
    "epochs = 100  # Number of training iterations"
   ]
  },
  {
   "cell_type": "code",
   "execution_count": 26,
   "id": "d5fd235e-b3a1-489b-893a-4b002a9f98a8",
   "metadata": {},
   "outputs": [],
   "source": [
    "# Activation Function (Step Function)\n",
    "def step_function(z):\n",
    "    return 1 if z >= 0 else 0"
   ]
  },
  {
   "cell_type": "code",
   "execution_count": 28,
   "id": "8d8d5da5-1a5f-49c6-9318-707e0e1045c8",
   "metadata": {},
   "outputs": [],
   "source": [
    "# Training the Perceptron\n",
    "for epoch in range(epochs):\n",
    "    total_error = 0  # Track error in each epoch\n",
    "    \n",
    "    for i in range(len(X)):\n",
    "        # Calculate weighted sum (z = w1*x1 + w2*x2 + bias)\n",
    "        z = np.dot(X[i], weights) + bias\n",
    "        y_pred = step_function(z)  # Apply activation function\n",
    "        \n",
    "        # Compute the error (Y - y_pred)\n",
    "        error = Y[i] - y_pred  \n",
    "        total_error += abs(error)  # Sum absolute errors\n",
    "        \n",
    "        # Update weights and bias using Perceptron Learning Rule\n",
    "        weights += learning_rate * error * X[i]  \n",
    "        bias += learning_rate * error  \n",
    "\n",
    "    # Stop early if no error (perfect classification)\n",
    "    if total_error == 0:\n",
    "        break  "
   ]
  },
  {
   "cell_type": "code",
   "execution_count": 30,
   "id": "5982da1e-5740-48e5-a462-ef58a7b06eeb",
   "metadata": {},
   "outputs": [
    {
     "name": "stdout",
     "output_type": "stream",
     "text": [
      "Final Weights: [0.17262544 0.86120452]\n",
      "Final Bias: -0.05812911135655244\n"
     ]
    }
   ],
   "source": [
    "# Print final weights and bias\n",
    "print(\"Final Weights:\", weights)\n",
    "print(\"Final Bias:\", bias)\n"
   ]
  },
  {
   "cell_type": "code",
   "execution_count": 32,
   "id": "79595560-dac3-4ab5-a83a-e7ef62fd8408",
   "metadata": {},
   "outputs": [
    {
     "name": "stdout",
     "output_type": "stream",
     "text": [
      "Input: [0 0] => Predicted Output: 0\n",
      "Input: [0 1] => Predicted Output: 1\n",
      "Input: [1 0] => Predicted Output: 1\n",
      "Input: [1 1] => Predicted Output: 1\n"
     ]
    }
   ],
   "source": [
    "# Testing the Model\n",
    "for i in range(len(X)):\n",
    "    z = np.dot(X[i], weights) + bias\n",
    "    output = step_function(z)\n",
    "    print(f\"Input: {X[i]} => Predicted Output: {output}\")"
   ]
  }
 ],
 "metadata": {
  "kernelspec": {
   "display_name": "Python 3 (ipykernel)",
   "language": "python",
   "name": "python3"
  },
  "language_info": {
   "codemirror_mode": {
    "name": "ipython",
    "version": 3
   },
   "file_extension": ".py",
   "mimetype": "text/x-python",
   "name": "python",
   "nbconvert_exporter": "python",
   "pygments_lexer": "ipython3",
   "version": "3.12.7"
  }
 },
 "nbformat": 4,
 "nbformat_minor": 5
}
